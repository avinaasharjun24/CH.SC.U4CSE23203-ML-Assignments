{
  "cells": [
    {
      "cell_type": "code",
      "execution_count": null,
      "metadata": {
        "colab": {
          "base_uri": "https://localhost:8080/"
        },
        "id": "91_SAJ1zC0mQ",
        "outputId": "e7d5c846-8bb2-4acb-a675-75af688ccca8"
      },
      "outputs": [
        {
          "name": "stdout",
          "output_type": "stream",
          "text": [
            "Dataset:\n",
            "    Weight  Sweetness  ColorCode   Fruit\n",
            "0     150          7          1   Apple\n",
            "1     170          8          1   Apple\n",
            "2     180          6          1   Apple\n",
            "3     120          9          1   Apple\n",
            "4     200          5          1   Apple\n",
            "5     140          8          1   Apple\n",
            "6     160          7          1   Apple\n",
            "7     300          4          2  Banana\n",
            "8     320          3          2  Banana\n",
            "9     330          2          2  Banana\n",
            "\n",
            "Predictions: ['Banana' 'Apple' 'Apple']\n",
            "Actual: ['Banana', 'Apple', 'Apple']\n",
            "Accuracy: 1.0\n",
            "\n",
            "New instance classified as: Apple\n"
          ]
        },
        {
          "name": "stderr",
          "output_type": "stream",
          "text": [
            "/usr/local/lib/python3.12/dist-packages/sklearn/utils/validation.py:2739: UserWarning: X does not have valid feature names, but RandomForestClassifier was fitted with feature names\n",
            "  warnings.warn(\n"
          ]
        }
      ],
      "source": [
        "# Exercise 1\n",
        "\n",
        "import numpy as np\n",
        "import pandas as pd\n",
        "from sklearn.model_selection import train_test_split\n",
        "from sklearn.ensemble import RandomForestClassifier\n",
        "from sklearn.metrics import accuracy_score\n",
        "\n",
        "# Features = [Weight, Sweetness, ColorCode]\n",
        "# Target = Fruit\n",
        "data = {\n",
        "    \"Weight\": [150, 170, 180, 120, 200, 140, 160, 300, 320, 330],\n",
        "    \"Sweetness\": [7, 8, 6, 9, 5, 8, 7, 4, 3, 2],\n",
        "    \"ColorCode\": [1, 1, 1, 1, 1, 1, 1, 2, 2, 2],  # 1=Red, 2=Yellow\n",
        "    \"Fruit\": [\"Apple\", \"Apple\", \"Apple\", \"Apple\", \"Apple\",\n",
        "              \"Apple\", \"Apple\", \"Banana\", \"Banana\", \"Banana\"]\n",
        "}\n",
        "\n",
        "df = pd.DataFrame(data)\n",
        "print(\"Dataset:\\n\", df)\n",
        "\n",
        "# Features and labels\n",
        "X = df[[\"Weight\", \"Sweetness\", \"ColorCode\"]]\n",
        "y = df[\"Fruit\"]\n",
        "\n",
        "# Split dataset\n",
        "X_train, X_test, y_train, y_test = train_test_split(X, y, test_size=0.3, random_state=42)\n",
        "\n",
        "# Random Forest (ensemble of Decision Trees with majority voting)\n",
        "rf = RandomForestClassifier(n_estimators=5, random_state=42)\n",
        "rf.fit(X_train, y_train)\n",
        "\n",
        "# Predictions\n",
        "y_pred = rf.predict(X_test)\n",
        "\n",
        "# Evaluate\n",
        "print(\"\\nPredictions:\", y_pred)\n",
        "print(\"Actual:\", list(y_test))\n",
        "print(\"Accuracy:\", accuracy_score(y_test, y_pred))\n",
        "\n",
        "# Test with a new instance\n",
        "new_instance = np.array([[180, 7, 1]])  # Example: weight=180, sweetness=7, red color\n",
        "prediction = rf.predict(new_instance)\n",
        "print(\"\\nNew instance classified as:\", prediction[0])\n"
      ]
    }
  ],
  "metadata": {
    "colab": {
      "provenance": []
    },
    "kernelspec": {
      "display_name": "Python 3",
      "name": "python3"
    },
    "language_info": {
      "name": "python"
    }
  },
  "nbformat": 4,
  "nbformat_minor": 0
}
