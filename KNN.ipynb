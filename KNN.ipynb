{
  "nbformat": 4,
  "nbformat_minor": 0,
  "metadata": {
    "colab": {
      "provenance": []
    },
    "kernelspec": {
      "name": "python3",
      "display_name": "Python 3"
    },
    "language_info": {
      "name": "python"
    }
  },
  "cells": [
    {
      "cell_type": "code",
      "execution_count": 3,
      "metadata": {
        "colab": {
          "base_uri": "https://localhost:8080/",
          "height": 1000
        },
        "id": "aeZKFHpc_MS8",
        "outputId": "2fc85874-6585-45a9-f033-31d3ad28508c"
      },
      "outputs": [
        {
          "output_type": "stream",
          "name": "stdout",
          "text": [
            "Shape of dataset: (1797, 64)\n",
            "Accuracy: 0.9833333333333333\n",
            "\n",
            "Classification Report:\n",
            "               precision    recall  f1-score   support\n",
            "\n",
            "           0       1.00      1.00      1.00        33\n",
            "           1       0.97      1.00      0.98        28\n",
            "           2       1.00      1.00      1.00        33\n",
            "           3       0.97      1.00      0.99        34\n",
            "           4       0.98      1.00      0.99        46\n",
            "           5       0.98      0.98      0.98        47\n",
            "           6       0.97      1.00      0.99        35\n",
            "           7       1.00      0.97      0.99        34\n",
            "           8       1.00      0.97      0.98        30\n",
            "           9       0.97      0.93      0.95        40\n",
            "\n",
            "    accuracy                           0.98       360\n",
            "   macro avg       0.98      0.98      0.98       360\n",
            "weighted avg       0.98      0.98      0.98       360\n",
            "\n",
            "\n",
            "Confusion Matrix:\n",
            " [[33  0  0  0  0  0  0  0  0  0]\n",
            " [ 0 28  0  0  0  0  0  0  0  0]\n",
            " [ 0  0 33  0  0  0  0  0  0  0]\n",
            " [ 0  0  0 34  0  0  0  0  0  0]\n",
            " [ 0  0  0  0 46  0  0  0  0  0]\n",
            " [ 0  0  0  0  0 46  1  0  0  0]\n",
            " [ 0  0  0  0  0  0 35  0  0  0]\n",
            " [ 0  0  0  0  0  0  0 33  0  1]\n",
            " [ 0  1  0  0  0  0  0  0 29  0]\n",
            " [ 0  0  0  1  1  1  0  0  0 37]]\n"
          ]
        },
        {
          "output_type": "display_data",
          "data": {
            "text/plain": [
              "<Figure size 640x480 with 1 Axes>"
            ],
            "image/png": "[encoded data removed]"
          },
          "metadata": {}
        }
      ],
      "source": [
        "# Exercise 1\n",
        "\n",
        "import numpy as np\n",
        "import matplotlib.pyplot as plt\n",
        "from sklearn.datasets import load_digits\n",
        "from sklearn.model_selection import train_test_split\n",
        "from sklearn.neighbors import KNeighborsClassifier\n",
        "from sklearn.metrics import accuracy_score, classification_report, confusion_matrix\n",
        "\n",
        "# Load handwritten digits dataset (0-9)\n",
        "digits = load_digits()\n",
        "\n",
        "print(\"Shape of dataset:\", digits.data.shape)  # (1797, 64) → 1797 samples, 8x8 images flattened\n",
        "\n",
        "# Prepare train/test data\n",
        "X = digits.data\n",
        "y = digits.target\n",
        "\n",
        "X_train, X_test, y_train, y_test = train_test_split(X, y, test_size=0.2, random_state=42)\n",
        "\n",
        "# Train kNN classifier\n",
        "knn = KNeighborsClassifier(n_neighbors=3)  # try k=3\n",
        "knn.fit(X_train, y_train)\n",
        "\n",
        "# Predict\n",
        "y_pred = knn.predict(X_test)\n",
        "\n",
        "# Evaluate\n",
        "print(\"Accuracy:\", accuracy_score(y_test, y_pred))\n",
        "print(\"\\nClassification Report:\\n\", classification_report(y_test, y_pred))\n",
        "print(\"\\nConfusion Matrix:\\n\", confusion_matrix(y_test, y_pred))\n",
        "\n",
        "# Test with a random digit\n",
        "plt.imshow(X_test[0].reshape(8, 8), cmap='gray')\n",
        "plt.title(f\"Predicted: {y_pred[0]}, Actual: {y_test[0]}\")\n",
        "plt.axis('off')\n",
        "plt.show()"
      ]
    },
    {
      "cell_type": "code",
      "source": [
        "# Exercise 2\n",
        "\n",
        "import numpy as np\n",
        "import pandas as pd\n",
        "\n",
        "# Dataset\n",
        "data = {\n",
        "    'Brightness': [40, 50, 60, 10, 70, 60, 25],\n",
        "    'Saturation': [20, 50, 90, 25, 70, 10, 80],\n",
        "    'Class': ['Red', 'Blue', 'Blue', 'Red', 'Blue', 'Red', 'Blue']\n",
        "}\n",
        "\n",
        "df = pd.DataFrame(data)\n",
        "print(\"Dataset:\\n\", df)\n",
        "\n",
        "# New entry (example: Brightness=55, Saturation=60)\n",
        "new_entry = np.array([55, 60])\n",
        "\n",
        "# Euclidean distance formula\n",
        "def euclidean_distance(p1, p2):\n",
        "    return np.sqrt(np.sum((p1 - p2) ** 2))\n",
        "\n",
        "# Calculate distances\n",
        "distances = []\n",
        "for i, row in df.iterrows():\n",
        "    existing_point = np.array([row['Brightness'], row['Saturation']])\n",
        "    dist = euclidean_distance(new_entry, existing_point)\n",
        "    distances.append(dist)\n",
        "    print(f\"Distance from {new_entry} to ({row['Brightness']}, {row['Saturation']}) [{row['Class']}] = {dist:.2f}\")\n",
        "\n",
        "# Add distances to dataframe\n",
        "df['Distance'] = distances\n",
        "print(\"\\nFinal Table with Distances:\\n\", df)\n"
      ],
      "metadata": {
        "colab": {
          "base_uri": "https://localhost:8080/"
        },
        "id": "Z52NbHCi_9WT",
        "outputId": "d41de242-c53e-4a66-e0ba-10f0a7b18894"
      },
      "execution_count": 5,
      "outputs": [
        {
          "output_type": "stream",
          "name": "stdout",
          "text": [
            "Dataset:\n",
            "    Brightness  Saturation Class\n",
            "0          40          20   Red\n",
            "1          50          50  Blue\n",
            "2          60          90  Blue\n",
            "3          10          25   Red\n",
            "4          70          70  Blue\n",
            "5          60          10   Red\n",
            "6          25          80  Blue\n",
            "Distance from [55 60] to (40, 20) [Red] = 42.72\n",
            "Distance from [55 60] to (50, 50) [Blue] = 11.18\n",
            "Distance from [55 60] to (60, 90) [Blue] = 30.41\n",
            "Distance from [55 60] to (10, 25) [Red] = 57.01\n",
            "Distance from [55 60] to (70, 70) [Blue] = 18.03\n",
            "Distance from [55 60] to (60, 10) [Red] = 50.25\n",
            "Distance from [55 60] to (25, 80) [Blue] = 36.06\n",
            "\n",
            "Final Table with Distances:\n",
            "    Brightness  Saturation Class   Distance\n",
            "0          40          20   Red  42.720019\n",
            "1          50          50  Blue  11.180340\n",
            "2          60          90  Blue  30.413813\n",
            "3          10          25   Red  57.008771\n",
            "4          70          70  Blue  18.027756\n",
            "5          60          10   Red  50.249378\n",
            "6          25          80  Blue  36.055513\n"
          ]
        }
      ]
    }
  ]
}